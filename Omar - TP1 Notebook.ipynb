{
 "cells": [
  {
   "cell_type": "code",
   "execution_count": 2,
   "metadata": {
    "colab": {
     "base_uri": "https://localhost:8080/",
     "height": 72,
     "resources": {
      "http://localhost:8080/nbextensions/google.colab/files.js": {
       "data": "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",
       "headers": [
        [
         "content-type",
         "application/javascript"
        ]
       ],
       "ok": true,
       "status": 200,
       "status_text": ""
      }
     }
    },
    "colab_type": "code",
    "executionInfo": {
     "elapsed": 39289,
     "status": "ok",
     "timestamp": 1590082331802,
     "user": {
      "displayName": "Omar Cardenas",
      "photoUrl": "https://lh3.googleusercontent.com/a-/AOh14GjWLEOqcNNisYT2NunjattOeUCCqixMV9_twpz_YQ=s64",
      "userId": "01915426424819196458"
     },
     "user_tz": 180
    },
    "id": "aSJoR8kxr0Xe",
    "outputId": "1c030a9d-00bd-4841-809c-5281fce7b298"
   },
   "outputs": [
    {
     "ename": "ModuleNotFoundError",
     "evalue": "No module named 'google'",
     "output_type": "error",
     "traceback": [
      "\u001b[1;31m---------------------------------------------------------------------------\u001b[0m",
      "\u001b[1;31mModuleNotFoundError\u001b[0m                       Traceback (most recent call last)",
      "\u001b[1;32m<ipython-input-2-89063a1f2702>\u001b[0m in \u001b[0;36m<module>\u001b[1;34m\u001b[0m\n\u001b[0;32m      2\u001b[0m \u001b[1;33m\u001b[0m\u001b[0m\n\u001b[0;32m      3\u001b[0m \u001b[1;33m\u001b[0m\u001b[0m\n\u001b[1;32m----> 4\u001b[1;33m \u001b[1;32mfrom\u001b[0m \u001b[0mgoogle\u001b[0m\u001b[1;33m.\u001b[0m\u001b[0mcolab\u001b[0m \u001b[1;32mimport\u001b[0m \u001b[0mfiles\u001b[0m\u001b[1;33m\u001b[0m\u001b[1;33m\u001b[0m\u001b[0m\n\u001b[0m\u001b[0;32m      5\u001b[0m \u001b[1;33m\u001b[0m\u001b[0m\n\u001b[0;32m      6\u001b[0m \u001b[0muploaded\u001b[0m \u001b[1;33m=\u001b[0m \u001b[0mfiles\u001b[0m\u001b[1;33m.\u001b[0m\u001b[0mupload\u001b[0m\u001b[1;33m(\u001b[0m\u001b[1;33m)\u001b[0m\u001b[1;33m\u001b[0m\u001b[1;33m\u001b[0m\u001b[0m\n",
      "\u001b[1;31mModuleNotFoundError\u001b[0m: No module named 'google'"
     ]
    }
   ],
   "source": [
    "import pandas as pd\n",
    "\n",
    "\n",
    "from google.colab import files\n",
    "\n",
    "uploaded = files.upload()"
   ]
  },
  {
   "cell_type": "code",
   "execution_count": null,
   "metadata": {
    "colab": {},
    "colab_type": "code",
    "id": "J1mUf8Gu3ZK-"
   },
   "outputs": [],
   "source": [
    "import numpy as np\n",
    "import seaborn as sns\n",
    "import matplotlib.pyplot as plt\n",
    "%matplotlib inline"
   ]
  },
  {
   "cell_type": "code",
   "execution_count": null,
   "metadata": {
    "colab": {
     "base_uri": "https://localhost:8080/",
     "height": 115
    },
    "colab_type": "code",
    "executionInfo": {
     "elapsed": 1092,
     "status": "ok",
     "timestamp": 1590086522098,
     "user": {
      "displayName": "Omar Cardenas",
      "photoUrl": "https://lh3.googleusercontent.com/a-/AOh14GjWLEOqcNNisYT2NunjattOeUCCqixMV9_twpz_YQ=s64",
      "userId": "01915426424819196458"
     },
     "user_tz": 180
    },
    "id": "Kd293vn4vHph",
    "outputId": "363376ac-31d9-46c5-cce3-4a602903fe66"
   },
   "outputs": [],
   "source": [
    "#carga de información en el dataframe y muestra del mismo\n",
    "train = pd.read_csv(io.StringIO(uploaded['train.csv'].decode('latin-1')))\n",
    "#head muestra las 5 primeras filas y columnas\n",
    "train.dtypes"
   ]
  },
  {
   "cell_type": "code",
   "execution_count": null,
   "metadata": {
    "colab": {},
    "colab_type": "code",
    "id": "-lJd-dKnwC_g"
   },
   "outputs": [],
   "source": [
    "#obtenemos 5 features (id, keyword, location, text and target) cada uno aporta información diferente"
   ]
  },
  {
   "cell_type": "code",
   "execution_count": null,
   "metadata": {
    "colab": {
     "base_uri": "https://localhost:8080/",
     "height": 34
    },
    "colab_type": "code",
    "executionInfo": {
     "elapsed": 1415,
     "status": "ok",
     "timestamp": 1590009076477,
     "user": {
      "displayName": "Omar Cardenas",
      "photoUrl": "https://lh3.googleusercontent.com/a-/AOh14GjWLEOqcNNisYT2NunjattOeUCCqixMV9_twpz_YQ=s64",
      "userId": "01915426424819196458"
     },
     "user_tz": 180
    },
    "id": "jaTBW4KK6Vzr",
    "outputId": "3dd9545c-dff0-477c-b40b-d150a7d53aa2"
   },
   "outputs": [],
   "source": [
    "print(train.shape) "
   ]
  },
  {
   "cell_type": "code",
   "execution_count": null,
   "metadata": {
    "colab": {},
    "colab_type": "code",
    "id": "aSy27tGz6c3z"
   },
   "outputs": [],
   "source": [
    "#Caracteristicas del data frame\n",
    "#id - identificador unico para cada  tweet\n",
    "#text - el texto del tweet\n",
    "#location - ubicación desde donde fue enviado (podría no estar)\n",
    "#target - en train.csv, indica si se trata de un desastre real  (1) o no (0)"
   ]
  },
  {
   "cell_type": "code",
   "execution_count": null,
   "metadata": {
    "colab": {
     "base_uri": "https://localhost:8080/",
     "height": 115
    },
    "colab_type": "code",
    "executionInfo": {
     "elapsed": 1193,
     "status": "ok",
     "timestamp": 1590085799520,
     "user": {
      "displayName": "Omar Cardenas",
      "photoUrl": "https://lh3.googleusercontent.com/a-/AOh14GjWLEOqcNNisYT2NunjattOeUCCqixMV9_twpz_YQ=s64",
      "userId": "01915426424819196458"
     },
     "user_tz": 180
    },
    "id": "1Z0crkxs8BK8",
    "outputId": "ff973d70-5694-4206-cf71-d42f55de38dd"
   },
   "outputs": [],
   "source": [
    "#Recuento de los valores faltantes\n",
    "train.isnull().sum()"
   ]
  },
  {
   "cell_type": "code",
   "execution_count": null,
   "metadata": {
    "colab": {
     "base_uri": "https://localhost:8080/",
     "height": 191
    },
    "colab_type": "code",
    "executionInfo": {
     "elapsed": 1373,
     "status": "ok",
     "timestamp": 1590110205934,
     "user": {
      "displayName": "Omar Cardenas",
      "photoUrl": "https://lh3.googleusercontent.com/a-/AOh14GjWLEOqcNNisYT2NunjattOeUCCqixMV9_twpz_YQ=s64",
      "userId": "01915426424819196458"
     },
     "user_tz": 180
    },
    "id": "2MsniReeUoz8",
    "outputId": "e0ce3f67-e509-4a50-94cc-8249ee55bbf1"
   },
   "outputs": [],
   "source": [
    "#promedio de valores por columna\n",
    "train_perc_missing = train.isnull().mean()*100\n",
    "percentage_missing = pd.DataFrame({'Train Missing Percentage': train_perc_missing.sort_values(ascending=False)})\n",
    "percentage_missing"
   ]
  },
  {
   "cell_type": "code",
   "execution_count": null,
   "metadata": {
    "colab": {},
    "colab_type": "code",
    "id": "JZlKaMeSVJ_X"
   },
   "outputs": [],
   "source": [
    "#Segun el resultado anterior podemos concluir en que\n",
    "#Faltan aproximadamente el 33% de los valores de localización\n",
    "#Faltan aproximadamente el 0,8% de los keywords"
   ]
  },
  {
   "cell_type": "code",
   "execution_count": null,
   "metadata": {
    "colab": {
     "base_uri": "https://localhost:8080/",
     "height": 33
    },
    "colab_type": "code",
    "executionInfo": {
     "elapsed": 956,
     "status": "ok",
     "timestamp": 1590111051185,
     "user": {
      "displayName": "Omar Cardenas",
      "photoUrl": "https://lh3.googleusercontent.com/a-/AOh14GjWLEOqcNNisYT2NunjattOeUCCqixMV9_twpz_YQ=s64",
      "userId": "01915426424819196458"
     },
     "user_tz": 180
    },
    "id": "pLwgNK0Pt1Bb",
    "outputId": "0d2b389f-190c-4cf9-872c-44730c3d4918"
   },
   "outputs": [],
   "source": [
    "# nos quedamos con los valores de texto 'no desastrozos'\n",
    "# Ingresé 4 para seleccionar la cuarta fila de los valores no desastrosos y vizualizar el texto que contiene\n",
    "non_disastrous = train[train['target']==0]['text']\n",
    "non_disastrous.values[4]"
   ]
  },
  {
   "cell_type": "code",
   "execution_count": null,
   "metadata": {
    "colab": {
     "base_uri": "https://localhost:8080/",
     "height": 33
    },
    "colab_type": "code",
    "executionInfo": {
     "elapsed": 767,
     "status": "ok",
     "timestamp": 1590111224206,
     "user": {
      "displayName": "Omar Cardenas",
      "photoUrl": "https://lh3.googleusercontent.com/a-/AOh14GjWLEOqcNNisYT2NunjattOeUCCqixMV9_twpz_YQ=s64",
      "userId": "01915426424819196458"
     },
     "user_tz": 180
    },
    "id": "Hmi9z3uat5sM",
    "outputId": "29a72efb-a701-46bf-e5fa-0b0c395211d8"
   },
   "outputs": [],
   "source": [
    "#Seleccionamos los valores de 'texto' que se califican desastrosos\n",
    "#probamos el 4\n",
    "disastrous = train[train['target']==1]['text']\n",
    "disastrous.values[2]"
   ]
  },
  {
   "cell_type": "code",
   "execution_count": null,
   "metadata": {
    "colab": {
     "base_uri": "https://localhost:8080/",
     "height": 66
    },
    "colab_type": "code",
    "executionInfo": {
     "elapsed": 782,
     "status": "ok",
     "timestamp": 1590111254435,
     "user": {
      "displayName": "Omar Cardenas",
      "photoUrl": "https://lh3.googleusercontent.com/a-/AOh14GjWLEOqcNNisYT2NunjattOeUCCqixMV9_twpz_YQ=s64",
      "userId": "01915426424819196458"
     },
     "user_tz": 180
    },
    "id": "bU5dNyCouDhd",
    "outputId": "c0b00660-f602-4e09-c3be-7aaafd8a673a"
   },
   "outputs": [],
   "source": [
    "# obtenemos el número de tweets desastrosos y no desastrosos\n",
    "train['target'].value_counts()"
   ]
  },
  {
   "cell_type": "code",
   "execution_count": null,
   "metadata": {
    "colab": {},
    "colab_type": "code",
    "id": "niWJgdo-oWyN"
   },
   "outputs": [],
   "source": []
  },
  {
   "cell_type": "code",
   "execution_count": null,
   "metadata": {
    "colab": {
     "base_uri": "https://localhost:8080/",
     "height": 311
    },
    "colab_type": "code",
    "executionInfo": {
     "elapsed": 861,
     "status": "ok",
     "timestamp": 1590111278470,
     "user": {
      "displayName": "Omar Cardenas",
      "photoUrl": "https://lh3.googleusercontent.com/a-/AOh14GjWLEOqcNNisYT2NunjattOeUCCqixMV9_twpz_YQ=s64",
      "userId": "01915426424819196458"
     },
     "user_tz": 180
    },
    "id": "4e9Obm_NuaH2",
    "outputId": "21d0b279-60d8-4301-d6e5-5fb8997e8456"
   },
   "outputs": [],
   "source": [
    "# visualizamos el número de tweets desastrosos y no desastrosos\n",
    "fig=sns.barplot(train['target'].value_counts().index, train['target'].value_counts())\n",
    "plt.title('Comparación real o no real')\n",
    "fig.set(xlabel='target', ylabel='cantidad')\n"
   ]
  },
  {
   "cell_type": "code",
   "execution_count": null,
   "metadata": {
    "colab": {
     "base_uri": "https://localhost:8080/",
     "height": 33
    },
    "colab_type": "code",
    "executionInfo": {
     "elapsed": 835,
     "status": "ok",
     "timestamp": 1590112214257,
     "user": {
      "displayName": "Omar Cardenas",
      "photoUrl": "https://lh3.googleusercontent.com/a-/AOh14GjWLEOqcNNisYT2NunjattOeUCCqixMV9_twpz_YQ=s64",
      "userId": "01915426424819196458"
     },
     "user_tz": 180
    },
    "id": "YxEL_7dHBdqz",
    "outputId": "ea180091-cdfa-46b9-8f41-0585ff0eb418"
   },
   "outputs": [],
   "source": [
    "#número de valores únicos en lacolumna 'keyword'\n",
    "train['keyword'].nunique()"
   ]
  },
  {
   "cell_type": "code",
   "execution_count": null,
   "metadata": {
    "colab": {
     "base_uri": "https://localhost:8080/",
     "height": 746
    },
    "colab_type": "code",
    "executionInfo": {
     "elapsed": 1065,
     "status": "ok",
     "timestamp": 1590111873021,
     "user": {
      "displayName": "Omar Cardenas",
      "photoUrl": "https://lh3.googleusercontent.com/a-/AOh14GjWLEOqcNNisYT2NunjattOeUCCqixMV9_twpz_YQ=s64",
      "userId": "01915426424819196458"
     },
     "user_tz": 180
    },
    "id": "5YM8FT_zuh0l",
    "outputId": "3c6a9ee6-97d6-44ef-9ae7-e8670efb26a4"
   },
   "outputs": [],
   "source": [
    "#hay demasiadas palabras clave diferentes (221), asi que evaluaremos las palabras clave más comunes \n",
    "figure = plt.figure(figsize=(14,12))\n",
    "fig=sns.barplot(y=train['keyword'].value_counts().index[:20], x=train['keyword'].value_counts()[-20:])\n",
    "plt.title('Palabras claves por tuit ')\n",
    "fig.set(xlabel='CANTIDAD', ylabel='KEYWORD')"
   ]
  },
  {
   "cell_type": "code",
   "execution_count": null,
   "metadata": {
    "colab": {
     "base_uri": "https://localhost:8080/",
     "height": 33
    },
    "colab_type": "code",
    "executionInfo": {
     "elapsed": 889,
     "status": "ok",
     "timestamp": 1590112674180,
     "user": {
      "displayName": "Omar Cardenas",
      "photoUrl": "https://lh3.googleusercontent.com/a-/AOh14GjWLEOqcNNisYT2NunjattOeUCCqixMV9_twpz_YQ=s64",
      "userId": "01915426424819196458"
     },
     "user_tz": 180
    },
    "id": "cEJuD-SlKzgQ",
    "outputId": "f1585813-126b-4b19-b538-128c48c8d6ae"
   },
   "outputs": [],
   "source": [
    "#ver el número de valores únicos y 20 de las ubicaciones más y menos comunes\n",
    "print(train['location'].nunique())"
   ]
  },
  {
   "cell_type": "code",
   "execution_count": null,
   "metadata": {
    "colab": {
     "base_uri": "https://localhost:8080/",
     "height": 53
    },
    "colab_type": "code",
    "executionInfo": {
     "elapsed": 1064,
     "status": "ok",
     "timestamp": 1590112853753,
     "user": {
      "displayName": "Omar Cardenas",
      "photoUrl": "https://lh3.googleusercontent.com/a-/AOh14GjWLEOqcNNisYT2NunjattOeUCCqixMV9_twpz_YQ=s64",
      "userId": "01915426424819196458"
     },
     "user_tz": 180
    },
    "id": "b99ojC4rGhMH",
    "outputId": "210ece2b-3f34-4b3c-bb8f-1613334c623a"
   },
   "outputs": [],
   "source": [
    "\"\"\"Hay demasiados lugares diferentes. Por lo tanto, puede haber posibles duplicados de lugares.\n",
    "\n",
    "por ejemplo:\n",
    "\n",
    "'Mumbai, India':'India'\n",
    "\n",
    "'Ireland, Britain':'Britain'\n",
    "\n",
    "'United States':'USA'\n",
    "\"\"\""
   ]
  },
  {
   "cell_type": "code",
   "execution_count": null,
   "metadata": {
    "colab": {
     "base_uri": "https://localhost:8080/",
     "height": 746
    },
    "colab_type": "code",
    "executionInfo": {
     "elapsed": 1210,
     "status": "ok",
     "timestamp": 1590112980722,
     "user": {
      "displayName": "Omar Cardenas",
      "photoUrl": "https://lh3.googleusercontent.com/a-/AOh14GjWLEOqcNNisYT2NunjattOeUCCqixMV9_twpz_YQ=s64",
      "userId": "01915426424819196458"
     },
     "user_tz": 180
    },
    "id": "nSdx456wLHkM",
    "outputId": "64b70406-3291-413a-8b6f-feca163016e4"
   },
   "outputs": [],
   "source": [
    "#Ver las primeras 20 ubicaciones más comunes\n",
    "figure = plt.figure(figsize=(14,12))\n",
    "fig=sns.barplot(y=train['location'].value_counts().index[:20], x=train['location'].value_counts()[:20], color='lightblue')\n",
    "plt.title('Lugares desde donde se envian más tuits ')\n",
    "fig.set(xlabel='Cantidad', ylabel='Localización')"
   ]
  },
  {
   "cell_type": "code",
   "execution_count": null,
   "metadata": {
    "colab": {
     "base_uri": "https://localhost:8080/",
     "height": 811
    },
    "colab_type": "code",
    "executionInfo": {
     "elapsed": 1323,
     "status": "ok",
     "timestamp": 1590113071389,
     "user": {
      "displayName": "Omar Cardenas",
      "photoUrl": "https://lh3.googleusercontent.com/a-/AOh14GjWLEOqcNNisYT2NunjattOeUCCqixMV9_twpz_YQ=s64",
      "userId": "01915426424819196458"
     },
     "user_tz": 180
    },
    "id": "ZzrHZ6g2Lnqh",
    "outputId": "809a9996-0dc8-4e47-95fc-1087bdc1b755"
   },
   "outputs": [],
   "source": [
    "\n",
    "#Vemos las últimas 20 ubicaciones menos comunes\n",
    "\n",
    "figure = plt.figure(figsize=(14,12))\n",
    "sns.barplot(y=train['location'].value_counts().index[-20:], x=train['location'].value_counts()[-20:])\n",
    "plt.title('20 Lugares desde donde se envian menos tuits')\n",
    "fig.set(xlabel='Cantidad', ylabel='Localización')"
   ]
  },
  {
   "cell_type": "code",
   "execution_count": null,
   "metadata": {
    "colab": {},
    "colab_type": "code",
    "id": "5FWMR4n7Lqav"
   },
   "outputs": [],
   "source": []
  },
  {
   "cell_type": "code",
   "execution_count": null,
   "metadata": {
    "colab": {},
    "colab_type": "code",
    "id": "8-oFq1tzUdRq"
   },
   "outputs": [],
   "source": []
  }
 ],
 "metadata": {
  "colab": {
   "authorship_tag": "ABX9TyPAQ37zmWzzAh6iUHsAujCq",
   "collapsed_sections": [],
   "name": "gd.ipynb",
   "provenance": []
  },
  "kernelspec": {
   "display_name": "Python 3",
   "language": "python",
   "name": "python3"
  },
  "language_info": {
   "codemirror_mode": {
    "name": "ipython",
    "version": 3
   },
   "file_extension": ".py",
   "mimetype": "text/x-python",
   "name": "python",
   "nbconvert_exporter": "python",
   "pygments_lexer": "ipython3",
   "version": "3.7.1"
  }
 },
 "nbformat": 4,
 "nbformat_minor": 1
}
