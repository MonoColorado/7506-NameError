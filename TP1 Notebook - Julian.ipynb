{
 "cells": [
  {
   "cell_type": "markdown",
   "metadata": {},
   "source": [
    "### Grupo: NameError\n",
    "\n",
    "# completar integrantes\n",
    "\n",
    "## 75.06/95.58 Organización de Datos - 1er cuatrimestre 2020\n",
    "\n",
    "### TP 1: análisis exploratorio de datos\n",
    "\n",
    "Enunciado completo: https://docs.google.com/document/d/1dv1VoTD5g1HlDLeVmfgp4fTP7fenykT-EnKnuWBCvFs/edit?usp=sharing\n",
    "\n",
    "Se pide:\n",
    "\n",
    "*El objetivo del primer TP es realizar un análisis exploratorio del set de datos. Queremos ver qué\n",
    "cosas podemos descubrir sobre los datos que puedan resultar interesantes. Estas cosas\n",
    "pueden estar relacionadas al objetivo del TP2 (predecir si un cierto tweet es real o no) o no,\n",
    "ambas son de interés.*\n",
    "___"
   ]
  },
  {
   "cell_type": "markdown",
   "metadata": {},
   "source": [
    "# Inicialización"
   ]
  },
  {
   "cell_type": "code",
   "execution_count": 1,
   "metadata": {},
   "outputs": [],
   "source": [
    "import pandas as pd\n",
    "import numpy as np\n",
    "\n",
    "import seaborn as sns\n",
    "import matplotlib.pyplot as plt\n",
    "%matplotlib inline"
   ]
  },
  {
   "cell_type": "code",
   "execution_count": 2,
   "metadata": {},
   "outputs": [
    {
     "data": {
      "text/html": [
       "<div>\n",
       "<style scoped>\n",
       "    .dataframe tbody tr th:only-of-type {\n",
       "        vertical-align: middle;\n",
       "    }\n",
       "\n",
       "    .dataframe tbody tr th {\n",
       "        vertical-align: top;\n",
       "    }\n",
       "\n",
       "    .dataframe thead th {\n",
       "        text-align: right;\n",
       "    }\n",
       "</style>\n",
       "<table border=\"1\" class=\"dataframe\">\n",
       "  <thead>\n",
       "    <tr style=\"text-align: right;\">\n",
       "      <th></th>\n",
       "      <th>id</th>\n",
       "      <th>keyword</th>\n",
       "      <th>location</th>\n",
       "      <th>text</th>\n",
       "      <th>target</th>\n",
       "    </tr>\n",
       "  </thead>\n",
       "  <tbody>\n",
       "    <tr>\n",
       "      <th>7608</th>\n",
       "      <td>10869</td>\n",
       "      <td>NaN</td>\n",
       "      <td>NaN</td>\n",
       "      <td>Two giant cranes holding a bridge collapse int...</td>\n",
       "      <td>True</td>\n",
       "    </tr>\n",
       "    <tr>\n",
       "      <th>7609</th>\n",
       "      <td>10870</td>\n",
       "      <td>NaN</td>\n",
       "      <td>NaN</td>\n",
       "      <td>@aria_ahrary @TheTawniest The out of control w...</td>\n",
       "      <td>True</td>\n",
       "    </tr>\n",
       "    <tr>\n",
       "      <th>7610</th>\n",
       "      <td>10871</td>\n",
       "      <td>NaN</td>\n",
       "      <td>NaN</td>\n",
       "      <td>M1.94 [01:04 UTC]?5km S of Volcano Hawaii. htt...</td>\n",
       "      <td>True</td>\n",
       "    </tr>\n",
       "    <tr>\n",
       "      <th>7611</th>\n",
       "      <td>10872</td>\n",
       "      <td>NaN</td>\n",
       "      <td>NaN</td>\n",
       "      <td>Police investigating after an e-bike collided ...</td>\n",
       "      <td>True</td>\n",
       "    </tr>\n",
       "    <tr>\n",
       "      <th>7612</th>\n",
       "      <td>10873</td>\n",
       "      <td>NaN</td>\n",
       "      <td>NaN</td>\n",
       "      <td>The Latest: More Homes Razed by Northern Calif...</td>\n",
       "      <td>True</td>\n",
       "    </tr>\n",
       "  </tbody>\n",
       "</table>\n",
       "</div>"
      ],
      "text/plain": [
       "         id keyword location  \\\n",
       "7608  10869     NaN      NaN   \n",
       "7609  10870     NaN      NaN   \n",
       "7610  10871     NaN      NaN   \n",
       "7611  10872     NaN      NaN   \n",
       "7612  10873     NaN      NaN   \n",
       "\n",
       "                                                   text  target  \n",
       "7608  Two giant cranes holding a bridge collapse int...    True  \n",
       "7609  @aria_ahrary @TheTawniest The out of control w...    True  \n",
       "7610  M1.94 [01:04 UTC]?5km S of Volcano Hawaii. htt...    True  \n",
       "7611  Police investigating after an e-bike collided ...    True  \n",
       "7612  The Latest: More Homes Razed by Northern Calif...    True  "
      ]
     },
     "execution_count": 2,
     "metadata": {},
     "output_type": "execute_result"
    }
   ],
   "source": [
    "data_folder = './kaggle_data/'\n",
    "data_file = 'train.csv'\n",
    "\n",
    "tweets = pd.read_csv(data_folder + data_file, dtype={'target':'bool'})\n",
    "\n",
    "tweets.tail()"
   ]
  },
  {
   "cell_type": "code",
   "execution_count": 3,
   "metadata": {},
   "outputs": [
    {
     "name": "stdout",
     "output_type": "stream",
     "text": [
      "<class 'pandas.core.frame.DataFrame'>\n",
      "RangeIndex: 7613 entries, 0 to 7612\n",
      "Data columns (total 5 columns):\n",
      "id          7613 non-null int64\n",
      "keyword     7552 non-null object\n",
      "location    5080 non-null object\n",
      "text        7613 non-null object\n",
      "target      7613 non-null bool\n",
      "dtypes: bool(1), int64(1), object(3)\n",
      "memory usage: 245.4+ KB\n"
     ]
    }
   ],
   "source": [
    "tweets.info()"
   ]
  },
  {
   "cell_type": "markdown",
   "metadata": {},
   "source": [
    "**Observación:** No hay valores nulos en id, text o target."
   ]
  },
  {
   "cell_type": "code",
   "execution_count": 4,
   "metadata": {},
   "outputs": [
    {
     "data": {
      "text/plain": [
       "False    4342\n",
       "True     3271\n",
       "Name: target, dtype: int64"
      ]
     },
     "execution_count": 4,
     "metadata": {},
     "output_type": "execute_result"
    }
   ],
   "source": [
    "tweets['target'].value_counts()"
   ]
  },
  {
   "cell_type": "markdown",
   "metadata": {},
   "source": [
    "**Observación:** Hay buena cantidad y balance de ambos valores de target, por lo que no sería un problema el tamaño de las muestras (De Moivre)."
   ]
  },
  {
   "cell_type": "markdown",
   "metadata": {},
   "source": [
    "# Análisis de longitud de tweets según target"
   ]
  },
  {
   "cell_type": "code",
   "execution_count": 5,
   "metadata": {},
   "outputs": [],
   "source": [
    "# Obtenemos medidas de longitudes\n",
    "tweets['length'] = tweets['text'].str.len()"
   ]
  },
  {
   "cell_type": "code",
   "execution_count": 6,
   "metadata": {},
   "outputs": [],
   "source": [
    "# Separamos tweets sobre desastres reales vs. los que no\n",
    "tweets_truedisaster = tweets.loc[tweets['target'] == True,:]\n",
    "tweets_notadisaster = tweets.loc[tweets['target'] == False,:]"
   ]
  },
  {
   "cell_type": "code",
   "execution_count": 7,
   "metadata": {},
   "outputs": [
    {
     "data": {
      "text/html": [
       "<div>\n",
       "<style scoped>\n",
       "    .dataframe tbody tr th:only-of-type {\n",
       "        vertical-align: middle;\n",
       "    }\n",
       "\n",
       "    .dataframe tbody tr th {\n",
       "        vertical-align: top;\n",
       "    }\n",
       "\n",
       "    .dataframe thead th {\n",
       "        text-align: right;\n",
       "    }\n",
       "</style>\n",
       "<table border=\"1\" class=\"dataframe\">\n",
       "  <thead>\n",
       "    <tr style=\"text-align: right;\">\n",
       "      <th></th>\n",
       "      <th>tweets_total</th>\n",
       "      <th>tweets_truedisaster</th>\n",
       "      <th>tweets_notadisaster</th>\n",
       "    </tr>\n",
       "  </thead>\n",
       "  <tbody>\n",
       "    <tr>\n",
       "      <th>count</th>\n",
       "      <td>7613.0</td>\n",
       "      <td>3271.0</td>\n",
       "      <td>4342.0</td>\n",
       "    </tr>\n",
       "    <tr>\n",
       "      <th>mean</th>\n",
       "      <td>101.0</td>\n",
       "      <td>108.1</td>\n",
       "      <td>95.7</td>\n",
       "    </tr>\n",
       "    <tr>\n",
       "      <th>std</th>\n",
       "      <td>33.8</td>\n",
       "      <td>29.3</td>\n",
       "      <td>35.9</td>\n",
       "    </tr>\n",
       "    <tr>\n",
       "      <th>min</th>\n",
       "      <td>7.0</td>\n",
       "      <td>14.0</td>\n",
       "      <td>7.0</td>\n",
       "    </tr>\n",
       "    <tr>\n",
       "      <th>25%</th>\n",
       "      <td>78.0</td>\n",
       "      <td>88.0</td>\n",
       "      <td>68.0</td>\n",
       "    </tr>\n",
       "    <tr>\n",
       "      <th>50%</th>\n",
       "      <td>107.0</td>\n",
       "      <td>115.0</td>\n",
       "      <td>101.0</td>\n",
       "    </tr>\n",
       "    <tr>\n",
       "      <th>75%</th>\n",
       "      <td>133.0</td>\n",
       "      <td>136.0</td>\n",
       "      <td>130.0</td>\n",
       "    </tr>\n",
       "    <tr>\n",
       "      <th>max</th>\n",
       "      <td>157.0</td>\n",
       "      <td>151.0</td>\n",
       "      <td>157.0</td>\n",
       "    </tr>\n",
       "  </tbody>\n",
       "</table>\n",
       "</div>"
      ],
      "text/plain": [
       "       tweets_total  tweets_truedisaster  tweets_notadisaster\n",
       "count        7613.0               3271.0               4342.0\n",
       "mean          101.0                108.1                 95.7\n",
       "std            33.8                 29.3                 35.9\n",
       "min             7.0                 14.0                  7.0\n",
       "25%            78.0                 88.0                 68.0\n",
       "50%           107.0                115.0                101.0\n",
       "75%           133.0                136.0                130.0\n",
       "max           157.0                151.0                157.0"
      ]
     },
     "execution_count": 7,
     "metadata": {},
     "output_type": "execute_result"
    }
   ],
   "source": [
    "#este código siguiente es para ver los describe() uno al lado del otro para facilitar la comparación.\n",
    "tweets_stats = pd.DataFrame({ \\\n",
    "                     'tweets_total': tweets['length'].describe(), \\\n",
    "                     'tweets_truedisaster': tweets_truedisaster['length'].describe(), \\\n",
    "                     'tweets_notadisaster': tweets_notadisaster['length'].describe() })\n",
    "\n",
    "tweets_stats=tweets_stats.round(decimals=1)\n",
    "\n",
    "tweets_stats"
   ]
  },
  {
   "cell_type": "markdown",
   "metadata": {},
   "source": [
    "**Observación:** Según vemos en estos cálculos, aquellos tweets sobre desastres tienden a ser un poco más largos.\n",
    "\n",
    "### A continuación van varios gráficos sobre la distribución de los tweets según su longitud y si son desastres verdaderos o no.\n",
    "\n",
    "El gráfico que me parece que ilustra mejor la distribución es el tercero, el **violinplot**."
   ]
  },
  {
   "cell_type": "code",
   "execution_count": 8,
   "metadata": {},
   "outputs": [
    {
     "data": {
      "text/plain": [
       "Text(0.5, 0, 'Tweet length')"
      ]
     },
     "execution_count": 8,
     "metadata": {},
     "output_type": "execute_result"
    },
    {
     "data": {
      "image/png": "[encoded data removed]",
      "text/plain": [
       "<Figure size 1008x360 with 1 Axes>"
      ]
     },
     "metadata": {
      "needs_background": "light"
     },
     "output_type": "display_data"
    }
   ],
   "source": [
    "plt.figure(figsize=(14, 5))\n",
    "\n",
    "ax = sns.boxplot(x=tweets['length'], y=tweets['target'], order=[True, False], orient=\"h\", width=0.6, palette=\"pastel\")\n",
    "\n",
    "sns.despine()\n",
    "plt.title('Tweet length distribution', fontsize=18)\n",
    "plt.xlabel('Tweet length')"
   ]
  },
  {
   "cell_type": "markdown",
   "metadata": {},
   "source": [
    "---\n",
    "*Las siguientes visualizaciones son otros intentos de graficar el punto 1. De todas maneras creo que el BoxPlot es el que más ejemplifica la observación.*"
   ]
  },
  {
   "cell_type": "code",
   "execution_count": 9,
   "metadata": {},
   "outputs": [
    {
     "data": {
      "text/plain": [
       "<matplotlib.legend.Legend at 0x1f13a621da0>"
      ]
     },
     "execution_count": 9,
     "metadata": {},
     "output_type": "execute_result"
    },
    {
     "data": {
      "image/png": "[encoded data removed]",
      "text/plain": [
       "<Figure size 1008x432 with 1 Axes>"
      ]
     },
     "metadata": {
      "needs_background": "light"
     },
     "output_type": "display_data"
    }
   ],
   "source": [
    "plt.figure(figsize=(14, 6))\n",
    "\n",
    "# Default bandwith\n",
    "#sns.kdeplot(tweets_truedisaster['length'], label='True disaster tweet', shade= True)\n",
    "#sns.kdeplot(tweets_notadisaster['length'], label='Not-a-disaster tweet', shade= True)\n",
    "\n",
    "# 'Custom' bandwith\n",
    "plot_bandwith = 5\n",
    "sns.kdeplot(tweets_truedisaster['length'], bw=plot_bandwith, label='True-disaster tweet', shade= True)\n",
    "sns.kdeplot(tweets_notadisaster['length'], bw=plot_bandwith, label='Not-a-disaster tweet', shade= True)\n",
    "    \n",
    "# Plot formatting\n",
    "sns.despine()\n",
    "plt.title('Tweet length distribution', fontsize=18)\n",
    "plt.xlabel('Tweet length')\n",
    "plt.ylabel('Density')\n",
    "plt.legend(fontsize=12, loc='upper left')"
   ]
  },
  {
   "cell_type": "markdown",
   "metadata": {},
   "source": [
    "___\n",
    "Esta visualización todavía necesita trabajo... No puedo juntar ambas mitades.\n"
   ]
  },
  {
   "cell_type": "code",
   "execution_count": 10,
   "metadata": {},
   "outputs": [
    {
     "name": "stderr",
     "output_type": "stream",
     "text": [
      "C:\\ProgramData\\Anaconda3\\lib\\site-packages\\scipy\\stats\\stats.py:1713: FutureWarning: Using a non-tuple sequence for multidimensional indexing is deprecated; use `arr[tuple(seq)]` instead of `arr[seq]`. In the future this will be interpreted as an array index, `arr[np.array(seq)]`, which will result either in an error or a different result.\n",
      "  return np.add.reduce(sorted[indexer] * weights, axis=axis) / sumval\n"
     ]
    },
    {
     "data": {
      "text/plain": [
       "<matplotlib.legend.Legend at 0x1f13bae34a8>"
      ]
     },
     "execution_count": 10,
     "metadata": {},
     "output_type": "execute_result"
    },
    {
     "data": {
      "image/png": "[encoded data removed]",
      "text/plain": [
       "<Figure size 1008x360 with 1 Axes>"
      ]
     },
     "metadata": {
      "needs_background": "light"
     },
     "output_type": "display_data"
    }
   ],
   "source": [
    "plt.figure(figsize=(14, 5))\n",
    "\n",
    "ax = sns.violinplot(data=tweets, x='length', y=['Is a disaster']*len(tweets), hue='target',\n",
    "                    orient=\"h\", split=True, cut=0, legend='Full', hue_order=[True,False], palette='pastel')\n",
    "\n",
    "sns.despine()\n",
    "plt.title('Tweet length distribution', fontsize=18)\n",
    "plt.xlabel('Tweet length')\n",
    "ax.set(yticklabels=[])\n",
    "plt.ylabel('Tweet')\n",
    "plt.legend(title='Is a disaster', title_fontsize=12, fontsize=12, loc='upper left')\n"
   ]
  },
  {
   "cell_type": "markdown",
   "metadata": {},
   "source": [
    "___\n",
    "# Distribución de target teniendo en cuenta valor de location"
   ]
  },
  {
   "cell_type": "markdown",
   "metadata": {},
   "source": [
    "## location not-null vs location null"
   ]
  },
  {
   "cell_type": "code",
   "execution_count": 11,
   "metadata": {},
   "outputs": [
    {
     "data": {
      "text/plain": [
       "False    5080\n",
       "True     2533\n",
       "Name: location, dtype: int64"
      ]
     },
     "execution_count": 11,
     "metadata": {},
     "output_type": "execute_result"
    }
   ],
   "source": [
    "# Cuantos tweets no tienen location?\n",
    "pd.isnull(tweets['location']).value_counts()"
   ]
  },
  {
   "cell_type": "code",
   "execution_count": 12,
   "metadata": {},
   "outputs": [],
   "source": [
    "tweets_targetcount = tweets['target'].value_counts()\n",
    "tweets_withlocation_targetcount = tweets.loc[~pd.isnull(tweets['location']),:]['target'].value_counts()\n",
    "tweets_withoutlocation_targetcount = tweets.loc[pd.isnull(tweets['location']),:]['target'].value_counts()"
   ]
  },
  {
   "cell_type": "code",
   "execution_count": 13,
   "metadata": {},
   "outputs": [
    {
     "data": {
      "text/plain": [
       "Text(0.7, 1, 'n=2533')"
      ]
     },
     "execution_count": 13,
     "metadata": {},
     "output_type": "execute_result"
    },
    {
     "data": {
      "image/png": "[encoded data removed]",
      "text/plain": [
       "<Figure size 1080x360 with 3 Axes>"
      ]
     },
     "metadata": {},
     "output_type": "display_data"
    }
   ],
   "source": [
    "plt.figure(figsize=(15,5))\n",
    "\n",
    "plt.suptitle(r'$\\bf{Target\\ distribution}$', fontsize=18) # Mathmode para darle bold\n",
    "\n",
    "plt.subplot(1, 3, 1)\n",
    "plt.pie(tweets_targetcount, labels= tweets_targetcount.index, autopct='%1.1f%%')\n",
    "plt.title('All tweets', fontsize=15)\n",
    "#cantidad de muestras\n",
    "plt.text(.7, 1, 'n=' + str(tweets_targetcount.sum()))\n",
    "\n",
    "plt.subplot(1, 3, 2)\n",
    "plt.pie(tweets_withlocation_targetcount, labels= tweets_withlocation_targetcount.index, autopct='%1.1f%%')\n",
    "plt.title('Any location', fontsize=15)\n",
    "plt.text(.7, 1, 'n=' + str(tweets_withlocation_targetcount.sum()))\n",
    "\n",
    "plt.subplot(1, 3, 3)\n",
    "plt.pie(tweets_withoutlocation_targetcount, labels= tweets_withoutlocation_targetcount.index, autopct='%1.1f%%')\n",
    "plt.title('No location', fontsize=15)\n",
    "plt.text(.7, 1, 'n=' + str(tweets_withoutlocation_targetcount.sum()))"
   ]
  },
  {
   "cell_type": "markdown",
   "metadata": {},
   "source": [
    "**Tener o no tener location no afecta el porcentaje de target**"
   ]
  },
  {
   "cell_type": "code",
   "execution_count": 14,
   "metadata": {},
   "outputs": [
    {
     "data": {
      "text/plain": [
       "USA                             104\n",
       "New York                         71\n",
       "United States                    50\n",
       "London                           45\n",
       "Canada                           29\n",
       "Nigeria                          28\n",
       "UK                               27\n",
       "Los Angeles, CA                  26\n",
       "India                            24\n",
       "Mumbai                           22\n",
       "Washington, DC                   21\n",
       "Kenya                            20\n",
       "Worldwide                        19\n",
       "Australia                        18\n",
       "Chicago, IL                      18\n",
       "California                       17\n",
       "California, USA                  15\n",
       "Everywhere                       15\n",
       "New York, NY                     15\n",
       "Florida                          14\n",
       "United Kingdom                   14\n",
       "San Francisco                    14\n",
       "Washington, D.C.                 13\n",
       "Los Angeles                      13\n",
       "Indonesia                        13\n",
       "NYC                              12\n",
       "Toronto                          12\n",
       "Ireland                          12\n",
       "Earth                            11\n",
       "Chicago                          11\n",
       "                               ... \n",
       "Weyburn                           1\n",
       "Torrance, CA                      1\n",
       "Bronx, New York                   1\n",
       "876 Jamrock.                      1\n",
       "Malang                            1\n",
       "he/him or she/her (ask)           1\n",
       "Shipwreck Cove                    1\n",
       "illinois. united state            1\n",
       "West Midlands                     1\n",
       "Los Angeles, Calif.               1\n",
       "Inside the Beltway (DC Area)      1\n",
       "Mackem in Bolton                  1\n",
       "Winnipeg, MB, Canada              1\n",
       "Astley, Manchester                1\n",
       "Leitchfield Kentucky              1\n",
       "oxford                            1\n",
       "Greater Los Angeles Bearia        1\n",
       "#ForeverWithBAP 8                 1\n",
       "Columbia Heights, MN              1\n",
       "å_å_Los Mina Cityã¢              1\n",
       "Alaska, USA                       1\n",
       "Westchester                       1\n",
       "Kuala Lumpur, Malaysia            1\n",
       "Alameda and Pleasanton, CA        1\n",
       "East Atlanta, Georgia             1\n",
       "Clean World                       1\n",
       "UAE,Sharjah/ AbuDhabi             1\n",
       "Lynchburg, VA                     1\n",
       "Beirut, Lebanon                   1\n",
       "London / Birmingham               1\n",
       "Name: location, Length: 3341, dtype: int64"
      ]
     },
     "execution_count": 14,
     "metadata": {},
     "output_type": "execute_result"
    }
   ],
   "source": [
    "tweets['location'].value_counts()"
   ]
  },
  {
   "cell_type": "markdown",
   "metadata": {},
   "source": [
    "___\n",
    "# Distribución de target teniendo en cuenta valor de keyword"
   ]
  },
  {
   "cell_type": "code",
   "execution_count": 15,
   "metadata": {},
   "outputs": [
    {
     "data": {
      "text/plain": [
       "False    7552\n",
       "True       61\n",
       "Name: keyword, dtype: int64"
      ]
     },
     "execution_count": 15,
     "metadata": {},
     "output_type": "execute_result"
    }
   ],
   "source": [
    "# Cuantos tweets no tienen keyword?\n",
    "pd.isnull(tweets['keyword']).value_counts()"
   ]
  },
  {
   "cell_type": "markdown",
   "metadata": {},
   "source": [
    "**Casi todos los tweets tienen keywords**"
   ]
  }
 ],
 "metadata": {
  "kernelspec": {
   "display_name": "Python 3",
   "language": "python",
   "name": "python3"
  },
  "language_info": {
   "codemirror_mode": {
    "name": "ipython",
    "version": 3
   },
   "file_extension": ".py",
   "mimetype": "text/x-python",
   "name": "python",
   "nbconvert_exporter": "python",
   "pygments_lexer": "ipython3",
   "version": "3.7.1"
  }
 },
 "nbformat": 4,
 "nbformat_minor": 2
}
